{
 "cells": [
  {
   "cell_type": "code",
   "execution_count": 2,
   "id": "638a57f2",
   "metadata": {},
   "outputs": [
    {
     "name": "stdout",
     "output_type": "stream",
     "text": [
      "The autoreload extension is already loaded. To reload it, use:\n",
      "  %reload_ext autoreload\n",
      "Workspace path added to sys.path: /Users/matsalexander/Documents/workspace/projects/00_default_project\n"
     ]
    }
   ],
   "source": [
    "%load_ext autoreload\n",
    "%autoreload 2\n",
    "import os\n",
    "import pathlib as pl\n",
    "import sys\n",
    "\n",
    "workspace = pl.Path(os.getcwd()).parent.parent\n",
    "sys.path.append(str(workspace))\n",
    "print(f\"Workspace path added to sys.path: {workspace}\")"
   ]
  }
 ],
 "metadata": {
  "kernelspec": {
   "display_name": "00-default-project",
   "language": "python",
   "name": "python3"
  },
  "language_info": {
   "codemirror_mode": {
    "name": "ipython",
    "version": 3
   },
   "file_extension": ".py",
   "mimetype": "text/x-python",
   "name": "python",
   "nbconvert_exporter": "python",
   "pygments_lexer": "ipython3",
   "version": "3.12.11"
  }
 },
 "nbformat": 4,
 "nbformat_minor": 5
}
